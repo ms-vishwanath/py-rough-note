{
 "cells": [
  {
   "cell_type": "markdown",
   "id": "1e82c61c-389a-4328-9f67-510076c3992d",
   "metadata": {},
   "source": [
    "HELLO WORLD => THIS IS PYTHON CHEAT SHEET \n",
    "AUTHOR : M.S.VISHWANATH"
   ]
  },
  {
   "cell_type": "markdown",
   "id": "c293df9a-bc59-4169-a1cd-5d6379b3c4e5",
   "metadata": {},
   "source": [
    "Variables and Data Types"
   ]
  },
  {
   "cell_type": "code",
   "execution_count": 89,
   "id": "37e7402a-669e-498f-a16b-ada92ab6a86d",
   "metadata": {
    "scrolled": true
   },
   "outputs": [
    {
     "name": "stdout",
     "output_type": "stream",
     "text": [
      "<class 'str'> Vishwanath\n",
      "<class 'int'> 20\n",
      "<class 'float'> 200.2\n",
      "<class 'bool'> True\n",
      "<class 'list'> ['Vanilla', 'Strawberry', 'Chocolate']\n",
      "<class 'set'> {'Strawberry', 'Vanilla', 'Chocolate'}\n",
      "<class 'dict'> {'name': 'Vish'}\n",
      "<class 'set'> {1, 2, 3}\n",
      "<class 'tuple'> (1, 2, 3)\n",
      "<class 'NoneType'> None\n",
      "<class 'complex'> (3+5j)\n",
      "<class 'list'> [[1, 2, 3], [4, 5, 6], [7, 8, 9]]\n"
     ]
    }
   ],
   "source": [
    "word:str = \"Vishwanath\"\n",
    "digit:int = 20\n",
    "decimal:float = 200.20\n",
    "nani:bool = True\n",
    "ice_creams:list = [\"Vanilla\", \"Strawberry\", \"Chocolate\"]\n",
    "ice_creams_set:set = set([\"Vanilla\", \"Strawberry\", \"Chocolate\"])\n",
    "data:dict = {\"name\":\"Vish\"}\n",
    "sample_set:set = {1, 2, 3}\n",
    "example_tuple:tuple = (1, 2, 3)\n",
    "none_value:None = None\n",
    "complex_number:complex = 3 + 5j\n",
    "matrix:list = [\n",
    "    [1, 2, 3],\n",
    "    [4, 5, 6],\n",
    "    [7, 8, 9]\n",
    "]\n",
    "\n",
    "print(type(word), word)\n",
    "print(type(digit), digit)\n",
    "print(type(decimal), decimal)\n",
    "print(type(nani), nani)\n",
    "print(type(ice_creams), ice_creams)\n",
    "print(type(ice_creams_set), ice_creams_set)\n",
    "print(type(data), data)\n",
    "print(type(sample_set), sample_set)\n",
    "print(type(example_tuple), example_tuple)\n",
    "print(type(none_value), none_value)\n",
    "print(type(complex_number), complex_number)\n",
    "print(type(matrix), matrix)\n",
    "\n"
   ]
  },
  {
   "cell_type": "code",
   "execution_count": 93,
   "id": "e144b8ca-c882-4e50-aadc-1a3651e91c51",
   "metadata": {},
   "outputs": [
    {
     "name": "stdout",
     "output_type": "stream",
     "text": [
      "{'Strawberry', 5, 'Vanilla', 'Chocolate'}\n",
      "{'Strawberry', 'Vanilla', 'Chocolate'}\n",
      "set()\n"
     ]
    }
   ],
   "source": [
    "ice_creams_set.add(5)\n",
    "print(ice_creams_set)  # Output: {1, 2, 3, 4, 5}\n",
    "ice_creams_set.remove(5)    # Removes 5\n",
    "ice_creams_set.discard(6)   # Doesn't raise an error if 6 is not in the set\n",
    "print(ice_creams_set)       # Output: {1, 2, 3, 4}\n",
    "ice_creams_set.clear()\n",
    "print(ice_creams_set)  # Output: set()\n"
   ]
  },
  {
   "cell_type": "code",
   "execution_count": 94,
   "id": "bd5116f9-7d17-4845-9572-dff4a04c4c76",
   "metadata": {},
   "outputs": [
    {
     "name": "stdout",
     "output_type": "stream",
     "text": [
      "{1, 2, 3, 4, 5}\n",
      "{1, 2, 3, 4, 5}\n"
     ]
    }
   ],
   "source": [
    "set1 = {1, 2, 3}\n",
    "set2 = {3, 4, 5}\n",
    "\n",
    "# Using union() method\n",
    "union_set = set1.union(set2)\n",
    "print(union_set)  # Output: {1, 2, 3, 4, 5}\n",
    "\n",
    "# Using | operator\n",
    "union_set2 = set1 | set2\n",
    "print(union_set2)  # Output: {1, 2, 3, 4, 5}\n"
   ]
  },
  {
   "cell_type": "code",
   "execution_count": 95,
   "id": "655df2f9-83bd-46f6-bcfe-ff43cd9708fe",
   "metadata": {},
   "outputs": [
    {
     "name": "stdout",
     "output_type": "stream",
     "text": [
      "{3}\n",
      "{3}\n"
     ]
    }
   ],
   "source": [
    "set1 = {1, 2, 3}\n",
    "set2 = {3, 4, 5}\n",
    "\n",
    "# Using intersection() method\n",
    "intersection_set = set1.intersection(set2)\n",
    "print(intersection_set)  # Output: {3}\n",
    "\n",
    "# Using & operator\n",
    "intersection_set2 = set1 & set2\n",
    "print(intersection_set2)  # Output: {3}\n"
   ]
  },
  {
   "cell_type": "code",
   "execution_count": 97,
   "id": "1f29c86c-46f3-4833-a711-438aa0243019",
   "metadata": {},
   "outputs": [
    {
     "name": "stdout",
     "output_type": "stream",
     "text": [
      "{1, 2}\n",
      "{4, 5}\n"
     ]
    }
   ],
   "source": [
    "set1 = {1, 2, 3}\n",
    "set2 = {3, 4, 5}\n",
    "\n",
    "# Using difference() method\n",
    "difference_set = set1.difference(set2)\n",
    "print(difference_set)  # Output: {1, 2}\n",
    "\n",
    "# Using - operator\n",
    "difference_set2 =  set2 - set1\n",
    "print(difference_set2)  # Output: {1, 2}\n"
   ]
  },
  {
   "cell_type": "code",
   "execution_count": 98,
   "id": "6d54ba3a-d616-44fa-89e0-e232263183f5",
   "metadata": {},
   "outputs": [
    {
     "name": "stdout",
     "output_type": "stream",
     "text": [
      "{1, 2, 4, 5}\n",
      "{1, 2, 4, 5}\n"
     ]
    }
   ],
   "source": [
    "set1 = {1, 2, 3}\n",
    "set2 = {3, 4, 5}\n",
    "\n",
    "# Using symmetric_difference() method\n",
    "sym_diff_set = set1.symmetric_difference(set2)\n",
    "print(sym_diff_set)  # Output: {1, 2, 4, 5}\n",
    "\n",
    "# Using ^ operator\n",
    "sym_diff_set2 = set1 ^ set2\n",
    "print(sym_diff_set2)  # Output: {1, 2, 4, 5}\n"
   ]
  },
  {
   "cell_type": "code",
   "execution_count": 102,
   "id": "1c4791f6-dea3-4c93-8c97-c89d2449de50",
   "metadata": {},
   "outputs": [
    {
     "name": "stdout",
     "output_type": "stream",
     "text": [
      "True\n",
      "False\n"
     ]
    }
   ],
   "source": [
    "set1 = {1, 2, 3}\n",
    "set2 = {1, 2, 3, 4, 5}\n",
    "\n",
    "# Subset check\n",
    "print(set1.issubset(set2))  # Output: True\n",
    "\n",
    "# Superset check\n",
    "print(set1.issuperset(set2))  # Output: True\n"
   ]
  },
  {
   "cell_type": "code",
   "execution_count": 109,
   "id": "d4cb32f1-8c9b-407f-9b0a-b14dfdeea8b4",
   "metadata": {},
   "outputs": [
    {
     "name": "stdout",
     "output_type": "stream",
     "text": [
      "True\n"
     ]
    }
   ],
   "source": [
    "set1 = {1, 2, 3}\n",
    "set2 = {4, 5, 6}\n",
    "\n",
    "# Disjoint check\n",
    "print(set1.isdisjoint(set2))  # Output: True\n"
   ]
  },
  {
   "cell_type": "code",
   "execution_count": 110,
   "id": "fc5ed6fc-7439-44bb-a6a8-2eede8a58f3a",
   "metadata": {},
   "outputs": [
    {
     "name": "stdout",
     "output_type": "stream",
     "text": [
      "4\n",
      "1\n",
      "4\n",
      "[1, 2, 3, 4]\n"
     ]
    }
   ],
   "source": [
    "my_set = {3, 1, 4, 2}\n",
    "\n",
    "print(len(my_set))       # Output: 4\n",
    "print(min(my_set))       # Output: 1\n",
    "print(max(my_set))       # Output: 4\n",
    "print(sorted(my_set))    # Output: [1, 2, 3, 4]\n"
   ]
  },
  {
   "cell_type": "markdown",
   "id": "e813ad3f-2084-4b2b-9234-de01f5a29ded",
   "metadata": {},
   "source": [
    "Control Flow and Functions"
   ]
  },
  {
   "cell_type": "code",
   "execution_count": 26,
   "id": "685438c0-6805-4fe2-a141-8310e959c5fe",
   "metadata": {},
   "outputs": [
    {
     "name": "stdout",
     "output_type": "stream",
     "text": [
      "ELSE\n"
     ]
    }
   ],
   "source": [
    "# if else \n",
    "if(False):\n",
    "    print(\"IF\")\n",
    "else:\n",
    "    print(\"ELSE\")\n",
    "\n"
   ]
  },
  {
   "cell_type": "code",
   "execution_count": 27,
   "id": "9438f620-4fff-4e3f-9d8a-753ab5f5e802",
   "metadata": {},
   "outputs": [
    {
     "name": "stdout",
     "output_type": "stream",
     "text": [
      "ELIF 2\n"
     ]
    }
   ],
   "source": [
    "# if elif \n",
    "if(False):\n",
    "    print(\"IF\")\n",
    "elif(False):\n",
    "    print(\"ELIF\")\n",
    "elif(True):\n",
    "    print(\"ELIF 2\")"
   ]
  },
  {
   "cell_type": "code",
   "execution_count": 34,
   "id": "d840f1c8-8bb1-4480-b71f-506e12c03b45",
   "metadata": {},
   "outputs": [
    {
     "name": "stdout",
     "output_type": "stream",
     "text": [
      "0\n",
      "1\n",
      "2\n",
      "3\n",
      "4\n"
     ]
    }
   ],
   "source": [
    "# for loop \n",
    "for i in range(10):\n",
    "    if i == 5:\n",
    "        break\n",
    "    print(i)"
   ]
  },
  {
   "cell_type": "code",
   "execution_count": 33,
   "id": "95897943-2fe3-4381-a001-1d85c7a54ebe",
   "metadata": {},
   "outputs": [
    {
     "name": "stdout",
     "output_type": "stream",
     "text": [
      "3\n",
      "4\n"
     ]
    }
   ],
   "source": [
    "for i in range(3,5,1):\n",
    "   print(i)"
   ]
  },
  {
   "cell_type": "code",
   "execution_count": 30,
   "id": "fb3d2522-46e6-4153-a70a-3222caa2faa1",
   "metadata": {},
   "outputs": [
    {
     "name": "stdout",
     "output_type": "stream",
     "text": [
      "Vanilla\n",
      "Strawberry\n",
      "Chocolate\n"
     ]
    }
   ],
   "source": [
    "for i in range(len(ice_creams)):\n",
    "    print(ice_creams[i])\n",
    "\n"
   ]
  },
  {
   "cell_type": "code",
   "execution_count": 31,
   "id": "4e418da0-1672-44b9-85da-174634e909b4",
   "metadata": {},
   "outputs": [
    {
     "name": "stdout",
     "output_type": "stream",
     "text": [
      "Vanilla\n",
      "Strawberry\n",
      "Chocolate\n",
      "0\n",
      "1\n",
      "2\n",
      "3\n",
      "4\n"
     ]
    }
   ],
   "source": [
    "for i,vish2 in enumerate(ice_creams):\n",
    "    print(vish2)\n"
   ]
  },
  {
   "cell_type": "code",
   "execution_count": 37,
   "id": "5219c74d-577b-4efc-bd4d-7c182608f0b3",
   "metadata": {},
   "outputs": [
    {
     "name": "stdout",
     "output_type": "stream",
     "text": [
      "0\n",
      "1\n",
      "2\n",
      "3\n",
      "4\n",
      "Loop finished without break.\n"
     ]
    }
   ],
   "source": [
    "for i in range(5):\n",
    "    print(i)\n",
    "else:\n",
    "    print(\"Loop finished without break.\")"
   ]
  },
  {
   "cell_type": "code",
   "execution_count": 39,
   "id": "14f6df6f-8abe-4258-a4ac-f726078b5ad0",
   "metadata": {},
   "outputs": [
    {
     "name": "stdout",
     "output_type": "stream",
     "text": [
      "0\n",
      "1\n",
      "2\n",
      "4\n"
     ]
    }
   ],
   "source": [
    "for i in range(5):\n",
    "    if i == 3:\n",
    "        continue  # Skip the iteration when i equals 3\n",
    "    print(i)\n"
   ]
  },
  {
   "cell_type": "code",
   "execution_count": 42,
   "id": "7442e471-19b6-41d4-95d6-9b02f6c34110",
   "metadata": {},
   "outputs": [
    {
     "name": "stdout",
     "output_type": "stream",
     "text": [
      "[1, 2, 3]\n",
      "[4, 5, 6]\n",
      "[7, 8, 9]\n"
     ]
    }
   ],
   "source": [
    "for row in matrix:\n",
    "    print(row)"
   ]
  },
  {
   "cell_type": "code",
   "execution_count": 52,
   "id": "afe572d4-27c9-4ef8-b561-905be2d92577",
   "metadata": {},
   "outputs": [
    {
     "name": "stdout",
     "output_type": "stream",
     "text": [
      "Vanilla Strawberry Chocolate\n"
     ]
    }
   ],
   "source": [
    "print(\" \".join(map(str,ice_creams)))"
   ]
  },
  {
   "cell_type": "code",
   "execution_count": 53,
   "id": "f55fbfc9-1712-47d2-980b-d9e0311c86a8",
   "metadata": {},
   "outputs": [
    {
     "name": "stdout",
     "output_type": "stream",
     "text": [
      "1 2 3\n",
      "4 5 6\n",
      "7 8 9\n"
     ]
    }
   ],
   "source": [
    "for row in matrix:\n",
    "    print(\" \".join(map(str, row)))"
   ]
  },
  {
   "cell_type": "code",
   "execution_count": 38,
   "id": "2e73ffe1-6dc1-4e65-ae19-97b1b457c070",
   "metadata": {},
   "outputs": [
    {
     "name": "stdout",
     "output_type": "stream",
     "text": [
      "NANI\n"
     ]
    }
   ],
   "source": [
    "while(True):\n",
    "    print(\"NANI\")\n",
    "    break;"
   ]
  },
  {
   "cell_type": "code",
   "execution_count": 57,
   "id": "bb44f24d-3754-4c75-a497-654f13b2930f",
   "metadata": {},
   "outputs": [
    {
     "name": "stdout",
     "output_type": "stream",
     "text": [
      "* \n",
      "* * \n",
      "* * * \n",
      "* * * * \n"
     ]
    }
   ],
   "source": [
    "for i in range(1, 5):\n",
    "    print(\"* \" * i)"
   ]
  },
  {
   "cell_type": "code",
   "execution_count": 77,
   "id": "d6acf9e1-105d-43bf-9338-4794044cd71f",
   "metadata": {},
   "outputs": [
    {
     "name": "stdout",
     "output_type": "stream",
     "text": [
      "* * * * \n",
      "* * * \n",
      "* * \n",
      "* \n"
     ]
    }
   ],
   "source": [
    "for i in range(4, 0,-1):\n",
    "\n",
    "    print(\"* \" * i)"
   ]
  },
  {
   "cell_type": "code",
   "execution_count": 83,
   "id": "11db0472-12c3-4a1f-9f72-8d0bdeb59af3",
   "metadata": {},
   "outputs": [
    {
     "name": "stdout",
     "output_type": "stream",
     "text": [
      "   * \n",
      "  * * \n",
      " * * * \n",
      "* * * * \n"
     ]
    }
   ],
   "source": [
    "for i in range(1, 5, 1):\n",
    "    print(\" \" * (4 - i) + \"* \" * i)"
   ]
  },
  {
   "cell_type": "code",
   "execution_count": 87,
   "id": "eb357662-e79c-4a90-b90c-e38c1986b291",
   "metadata": {},
   "outputs": [
    {
     "name": "stdout",
     "output_type": "stream",
     "text": [
      "* * * * \n",
      " * * * \n",
      "  * * \n",
      "   * \n"
     ]
    }
   ],
   "source": [
    "for i in range(4, 0, -1):\n",
    "    print(\" \" * (4 - i) + \"* \" * i)"
   ]
  },
  {
   "cell_type": "markdown",
   "id": "7bad59c8-00ad-426b-bba9-0a754f399b5c",
   "metadata": {},
   "source": [
    "TIME FOR DSA "
   ]
  },
  {
   "cell_type": "code",
   "execution_count": 127,
   "id": "e6455fae-de7f-4d8c-8a7a-db8139c8a685",
   "metadata": {},
   "outputs": [],
   "source": [
    "fruits = [\"apple\", \"banana\", \"mango\"]\n",
    "numbers = [1, 2, 3, 4, 5]\n",
    "mixed = [1, \"two\", 3.0, True]\n"
   ]
  },
  {
   "cell_type": "code",
   "execution_count": 128,
   "id": "89f4e9c4-1485-48c0-84d5-3af04268ce88",
   "metadata": {},
   "outputs": [
    {
     "name": "stdout",
     "output_type": "stream",
     "text": [
      "['apple', 'kiwi', 'banana', 'mango', 'grape']\n"
     ]
    }
   ],
   "source": [
    "fruits.append(\"grape\")      # Add at end\n",
    "fruits.insert(1, \"kiwi\")    # Insert at index 1\n",
    "print(fruits)\n"
   ]
  },
  {
   "cell_type": "code",
   "execution_count": 129,
   "id": "46863264-593e-4e61-9aba-c565f86eae97",
   "metadata": {},
   "outputs": [
    {
     "name": "stdout",
     "output_type": "stream",
     "text": [
      "['apple', 'kiwi', 'banana', 'grape']\n",
      "['apple', 'kiwi', 'banana']\n",
      "['apple', 'banana']\n"
     ]
    }
   ],
   "source": [
    "fruits.remove(\"mango\")  # Removes by value\n",
    "print(fruits)\n",
    "fruits.pop()             # Removes last\n",
    "print(fruits)\n",
    "fruits.pop(1)            # Removes by index\n",
    "print(fruits)\n"
   ]
  },
  {
   "cell_type": "code",
   "execution_count": 131,
   "id": "9323359e-7cc7-4aad-9fa9-9f5277c27ab2",
   "metadata": {},
   "outputs": [
    {
     "name": "stdout",
     "output_type": "stream",
     "text": [
      "['orange', 'banana']\n"
     ]
    }
   ],
   "source": [
    "fruits[0] = \"orange\"\n",
    "print(fruits)"
   ]
  },
  {
   "cell_type": "code",
   "execution_count": 132,
   "id": "062409aa-8c6d-4115-9f1e-a87c29f10af1",
   "metadata": {},
   "outputs": [
    {
     "data": {
      "text/plain": [
       "[1, 2, 3, 4, 5]"
      ]
     },
     "execution_count": 132,
     "metadata": {},
     "output_type": "execute_result"
    }
   ],
   "source": [
    "len(fruits)     # Length\n",
    "sum(numbers)    # Sum (only for numeric list)\n",
    "min(numbers)    # Min value\n",
    "max(numbers)    # Max value\n",
    "sorted(numbers) # Sorted version\n"
   ]
  },
  {
   "cell_type": "code",
   "execution_count": 152,
   "id": "46687de6-38e5-463d-97bf-ece4507d8cc8",
   "metadata": {},
   "outputs": [
    {
     "name": "stdout",
     "output_type": "stream",
     "text": [
      "[8, 7, 6, 5, 4, 3, 2, 1]\n"
     ]
    }
   ],
   "source": [
    "datas = [1, 2, 3, 4, 5, 6, 7, 8]\n",
    "print(datas[::-1])"
   ]
  },
  {
   "cell_type": "code",
   "execution_count": null,
   "id": "8a5402e7-63a5-4ca1-a628-458bc25f80ae",
   "metadata": {},
   "outputs": [],
   "source": []
  },
  {
   "cell_type": "code",
   "execution_count": null,
   "id": "157c4dd7-83b5-44b3-906c-d5ad9d3c8868",
   "metadata": {},
   "outputs": [],
   "source": []
  }
 ],
 "metadata": {
  "kernelspec": {
   "display_name": "Python 3 (ipykernel)",
   "language": "python",
   "name": "python3"
  },
  "language_info": {
   "codemirror_mode": {
    "name": "ipython",
    "version": 3
   },
   "file_extension": ".py",
   "mimetype": "text/x-python",
   "name": "python",
   "nbconvert_exporter": "python",
   "pygments_lexer": "ipython3",
   "version": "3.13.3"
  }
 },
 "nbformat": 4,
 "nbformat_minor": 5
}
